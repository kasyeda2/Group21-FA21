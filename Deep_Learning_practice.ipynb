{
  "nbformat": 4,
  "nbformat_minor": 0,
  "metadata": {
    "colab": {
      "name": "Deep Learning practice",
      "provenance": [],
      "collapsed_sections": [],
      "include_colab_link": true
    },
    "kernelspec": {
      "name": "python3",
      "display_name": "Python 3"
    },
    "language_info": {
      "name": "python"
    }
  },
  "cells": [
    {
      "cell_type": "markdown",
      "metadata": {
        "id": "view-in-github",
        "colab_type": "text"
      },
      "source": [
        "<a href=\"https://colab.research.google.com/github/kasyeda2/Group21-FA21/blob/kasyeda2/Deep_Learning_practice.ipynb\" target=\"_parent\"><img src=\"https://colab.research.google.com/assets/colab-badge.svg\" alt=\"Open In Colab\"/></a>"
      ]
    },
    {
      "cell_type": "markdown",
      "metadata": {
        "id": "92GugWWmxnoN"
      },
      "source": [
        "## Training"
      ]
    },
    {
      "cell_type": "markdown",
      "metadata": {
        "id": "d6-D940crgxK"
      },
      "source": [
        "### ShallowNet CNN from PyImageSearch's Deep Learning Book"
      ]
    },
    {
      "cell_type": "code",
      "metadata": {
        "id": "L5qk6fWtrdsi",
        "colab": {
          "base_uri": "https://localhost:8080/"
        },
        "outputId": "ac6cf448-9e4d-4c47-8f6d-1216c5e16fce"
      },
      "source": [
        "# CNN code\n",
        "\n",
        "# imports\n",
        "from tensorflow.keras.models import Sequential\n",
        "from tensorflow.keras.layers import Conv2D\n",
        "from tensorflow.keras.layers import Activation\n",
        "from tensorflow.keras.layers import Flatten\n",
        "from tensorflow.keras.layers import Dense\n",
        "from tensorflow.keras import backend as K\n",
        "\n",
        "# CNN class\n",
        "class ShallowNet:\n",
        "  @staticmethod\n",
        "  def build(width, height, depth, classes):\n",
        "    # initialize the model\n",
        "    model = Sequential()\n",
        "\n",
        "    # initialize the input shape\n",
        "    inputShape = (height, width, depth)\n",
        "\n",
        "    # handle \"channels first\"\n",
        "    if K.image_data_format() == \"channels_first\":\n",
        "      inputShape = (depth, height, width)\n",
        "\n",
        "    # add layers to our model \n",
        "    model.add(Conv2D(32, (3, 3), padding=\"same\", input_shape=inputShape))\n",
        "    model.add(Activation(\"relu\"))\n",
        "\n",
        "    # softmax classifier\n",
        "    model.add(Flatten())\n",
        "    model.add(Dense(classes))\n",
        "    model.add(Activation(\"softmax\")) # produce the probabilities which sum to 1\n",
        "\n",
        "    # return the CNN structure\n",
        "    return model\n",
        "\n",
        "\n",
        "s = ShallowNet()\n",
        "model = s.build(244, 244, 3, 3)\n",
        "print(model.summary())\n",
        "\n",
        "print(1000 * 100 * 5716355)"
      ],
      "execution_count": 1,
      "outputs": [
        {
          "output_type": "stream",
          "name": "stdout",
          "text": [
            "Model: \"sequential\"\n",
            "_________________________________________________________________\n",
            " Layer (type)                Output Shape              Param #   \n",
            "=================================================================\n",
            " conv2d (Conv2D)             (None, 244, 244, 32)      896       \n",
            "                                                                 \n",
            " activation (Activation)     (None, 244, 244, 32)      0         \n",
            "                                                                 \n",
            " flatten (Flatten)           (None, 1905152)           0         \n",
            "                                                                 \n",
            " dense (Dense)               (None, 3)                 5715459   \n",
            "                                                                 \n",
            " activation_1 (Activation)   (None, 3)                 0         \n",
            "                                                                 \n",
            "=================================================================\n",
            "Total params: 5,716,355\n",
            "Trainable params: 5,716,355\n",
            "Non-trainable params: 0\n",
            "_________________________________________________________________\n",
            "None\n",
            "571635500000\n"
          ]
        }
      ]
    },
    {
      "cell_type": "markdown",
      "metadata": {
        "id": "Zxm3yT-HBEHt"
      },
      "source": [
        "### PyImageSearch Preprocessing modules from their Deep Learning Book"
      ]
    },
    {
      "cell_type": "markdown",
      "metadata": {
        "id": "PT2ofML1Bf1U"
      },
      "source": [
        "#### Image to Array Preprocessor"
      ]
    },
    {
      "cell_type": "code",
      "metadata": {
        "id": "6GNPRVQCBLv1"
      },
      "source": [
        "# import the necessary packages\n",
        "from tensorflow.keras.preprocessing.image import img_to_array\n",
        "\n",
        "class ImageToArrayPreprocessor:\n",
        "\tdef __init__(self, dataFormat=None):\n",
        "\t\t# store the image data format\n",
        "\t\tself.dataFormat = dataFormat\n",
        "\n",
        "\tdef preprocess(self, image):\n",
        "\t\t# apply the Keras utility function that correctly rearranges\n",
        "\t\t# the dimensions of the image\n",
        "\t\treturn img_to_array(image, data_format=self.dataFormat)"
      ],
      "execution_count": null,
      "outputs": []
    },
    {
      "cell_type": "markdown",
      "metadata": {
        "id": "SipCG7kbBjSo"
      },
      "source": [
        "#### Simple Preprocessor"
      ]
    },
    {
      "cell_type": "code",
      "metadata": {
        "id": "Y3Nl-rBmBd28"
      },
      "source": [
        "# import the necessary packages\n",
        "import cv2\n",
        "\n",
        "class SimplePreprocessor:\n",
        "\tdef __init__(self, width, height, inter=cv2.INTER_AREA):\n",
        "\t\t# store the target image width, height, and interpolation\n",
        "\t\t# method used when resizing\n",
        "\t\tself.width = width\n",
        "\t\tself.height = height\n",
        "\t\tself.inter = inter\n",
        "\n",
        "\tdef preprocess(self, image):\n",
        "\t\t# resize the image to a fixed size, ignoring the aspect\n",
        "\t\t# ratio\n",
        "\t\treturn cv2.resize(image, (self.width, self.height),\n",
        "\t\t\tinterpolation=self.inter)"
      ],
      "execution_count": null,
      "outputs": []
    },
    {
      "cell_type": "markdown",
      "metadata": {
        "id": "zNsAVRVWETAc"
      },
      "source": [
        "#### Simple Dataset Loader"
      ]
    },
    {
      "cell_type": "code",
      "metadata": {
        "id": "ffeWXT-cEVp8"
      },
      "source": [
        "# import the necessary packages\n",
        "import numpy as np\n",
        "import cv2\n",
        "import os\n",
        "\n",
        "class SimpleDatasetLoader:\n",
        "\tdef __init__(self, preprocessors=None):\n",
        "\t\t# store the image preprocessor\n",
        "\t\tself.preprocessors = preprocessors\n",
        "\n",
        "\t\t# if the preprocessors are None, initialize them as an\n",
        "\t\t# empty list\n",
        "\t\tif self.preprocessors is None:\n",
        "\t\t\tself.preprocessors = []\n",
        "\n",
        "\tdef load(self, imagePaths, verbose=-1):\n",
        "\t\t# initialize the list of features and labels\n",
        "\t\tdata = []\n",
        "\t\tlabels = []\n",
        "\n",
        "\t\t# loop over the input images\n",
        "\t\tfor (i, imagePath) in enumerate(imagePaths):\n",
        "\t\t\t# load the image and extract the class label assuming\n",
        "\t\t\t# that our path has the following format:\n",
        "\t\t\t# /path/to/dataset/{class}/{image}.jpg\n",
        "\t\t\timage = cv2.imread(imagePath)\n",
        "\t\t\tlabel = imagePath.split(os.path.sep)[-2]\n",
        "\n",
        "\t\t\t# check to see if our preprocessors are not None\n",
        "\t\t\tif self.preprocessors is not None:\n",
        "\t\t\t\t# loop over the preprocessors and apply each to\n",
        "\t\t\t\t# the image\n",
        "\t\t\t\tfor p in self.preprocessors:\n",
        "\t\t\t\t\timage = p.preprocess(image)\n",
        "\n",
        "\t\t\t# treat our processed image as a \"feature vector\"\n",
        "\t\t\t# by updating the data list followed by the labels\n",
        "\t\t\tdata.append(image)\n",
        "\t\t\tlabels.append(label)\n",
        "\n",
        "\t\t\t# show an update every `verbose` images\n",
        "\t\t\tif verbose > 0 and i > 0 and (i + 1) % verbose == 0:\n",
        "\t\t\t\tprint(\"[INFO] processed {}/{}\".format(i + 1,\n",
        "\t\t\t\t\tlen(imagePaths)))\n",
        "\n",
        "\t\t# return a tuple of the data and labels\n",
        "\t\treturn (np.array(data), np.array(labels))"
      ],
      "execution_count": null,
      "outputs": []
    },
    {
      "cell_type": "markdown",
      "metadata": {
        "id": "Mzydx-o5rs_4"
      },
      "source": [
        "### Training Code"
      ]
    },
    {
      "cell_type": "code",
      "metadata": {
        "id": "AacBWyBwOxFz"
      },
      "source": [
        "# mount your google drive (confirm via the link)\n",
        "from google.colab import drive\n",
        "drive.mount('/content/gdrive')"
      ],
      "execution_count": null,
      "outputs": []
    },
    {
      "cell_type": "code",
      "metadata": {
        "id": "UjXvt-SaK1tm"
      },
      "source": [
        "\n",
        "! unzip 'gdrive/My Drive/Colab Notebooks/animals.zip'"
      ],
      "execution_count": null,
      "outputs": []
    },
    {
      "cell_type": "code",
      "metadata": {
        "id": "GJY2Ltjn6Eix"
      },
      "source": [
        "# imports\n",
        "from sklearn.preprocessing import LabelBinarizer\n",
        "from sklearn.model_selection import train_test_split\n",
        "from sklearn.metrics import classification_report\n",
        "from tensorflow.keras.optimizers import SGD\n",
        "from imutils import paths\n",
        "import matplotlib.pyplot as plt\n",
        "import numpy as np\n",
        "\n",
        "# load a dataset\n",
        "data_path = \"animals\"\n",
        "imagePaths = list(paths.list_images(data_path))\n",
        "\n",
        "# initialize our preprocessors\n",
        "iap = ImageToArrayPreprocessor()\n",
        "sp = SimplePreprocessor(32, 32)\n",
        "\n",
        "##### load data\n",
        "sdl = SimpleDatasetLoader(preprocessors=[iap, sp])\n",
        "(data, labels) = sdl.load(imagePaths)\n",
        "\n",
        "# scale the pixel intensities from the range [0, 255] to [0, 1]\n",
        "data = data.astype(\"float\") / 255.0\n",
        "\n",
        "# separate the data into 75% training & 25% testing\n",
        "(trainX, testX, trainY, testY) = train_test_split(data, labels, test_size=0.25, random_state=42)\n",
        "\n",
        "# convert labels from integers to \"one-hot encoded\" vectors\n",
        "# three class [cat, dog, panda]\n",
        "# cat would be represented as [1, 0, 0] vector\n",
        "# panda would be represented as [0, 0, 1] vector\n",
        "trainY = LabelBinarizer().fit_transform(trainY)\n",
        "testY = LabelBinarizer().fit_transform(testY)\n",
        "\n",
        "# load the model\n",
        "opt = SGD(lr=0.005)\n",
        "model = ShallowNet.build(width=32, height=32, depth=3, classes=3)\n",
        "model.compile(loss=\"categorical_crossentropy\", optimizer=opt, metrics=[\"accuracy\"])\n",
        "\n",
        "# train the model on the data\n",
        "print(\"========= TRAINING IS STARTING ============\")\n",
        "EPOCHS = 100\n",
        "H = model.fit(trainX, trainY, validation_data=(testX, testY), batch_size=32, epochs=EPOCHS, verbose=1)\n",
        "\n",
        "# evaluate the model\n",
        "predictions = model.predict(testX, batch_size=32)\n",
        "print(classification_report(testY.argmax(axis=1), predictions.argmax(axis=1), target_names=[\"cat\", \"dog\", \"panda\"]))\n",
        "\n",
        "# plot the training loss and accuracy\n",
        "plt.style.use(\"ggplot\")\n",
        "plt.figure()\n",
        "plt.plot(np.arange(0, EPOCHS), H.history[\"loss\"], label=\"train_loss\")\n",
        "plt.plot(np.arange(0, EPOCHS), H.history[\"val_loss\"], label=\"val_loss\")\n",
        "plt.plot(np.arange(0, EPOCHS), H.history[\"accuracy\"], label=\"train_acc\")\n",
        "plt.plot(np.arange(0, EPOCHS), H.history[\"val_accuracy\"], label=\"val_acc\")\n",
        "plt.title(\"Training Loss and Accuracy\")\n",
        "plt.xlabel(\"Epoch #\")\n",
        "plt.ylabel(\"Loss/Accuracy\")\n",
        "plt.legend()\n",
        "plt.show()\n",
        "\n",
        "# save the model to disk\n",
        "model.save(\"gdrive/My Drive/Colab Notebooks/animals.model\", save_format=\"h5\")"
      ],
      "execution_count": null,
      "outputs": []
    },
    {
      "cell_type": "markdown",
      "metadata": {
        "id": "sj8vYH58ww6r"
      },
      "source": [
        "### Perform Inference with the Saved Model"
      ]
    },
    {
      "cell_type": "code",
      "metadata": {
        "id": "kWsPlHJCwwGf"
      },
      "source": [
        "# imports\n",
        "from tensorflow.keras.preprocessing.image import img_to_array\n",
        "from tensorflow.keras.models import load_model\n",
        "from imutils import build_montages\n",
        "from imutils import paths\n",
        "import numpy as np\n",
        "import argparse\n",
        "import random\n",
        "import cv2\n",
        "\n",
        "# (1) load the model\n",
        "model = load_model(\"gdrive/My Drive/Colab Notebooks/animals.model\")\n",
        "\n",
        "# (2) load an image\n",
        "cat = cv2.imread(\"gdrive/My Drive/Colab Notebooks/cat.jpg\")\n",
        "dog = cv2.imread(\"gdrive/My Drive/Colab Notebooks/dog.jpg\")\n",
        "panda = cv2.imread(\"gdrive/My Drive/Colab Notebooks/panda.jpg\")\n",
        "\n",
        "# (3) preprocess the image\n",
        "iap = ImageToArrayPreprocessor()\n",
        "sp = SimplePreprocessor(32, 32)\n",
        "\n",
        "# preprocess cat\n",
        "cat = sp.preprocess(cat) #resizes\n",
        "cat = iap.preprocess(cat) #converts to array\n",
        "cat = cat.astype(\"float\") / 255.0\n",
        "cat = np.expand_dims(cat, axis=0)\n",
        "\n",
        "# preprocess dog\n",
        "dog = sp.preprocess(dog) #resizes\n",
        "dog = iap.preprocess(dog) #converts to array\n",
        "dog = dog.astype(\"float\") / 255.0\n",
        "dog = np.expand_dims(dog, axis=0)\n",
        "\n",
        "# preprocess panda\n",
        "panda = sp.preprocess(panda) #resizes\n",
        "panda = iap.preprocess(panda) #converts to array\n",
        "panda = panda.astype(\"float\") / 255.0\n",
        "panda = np.expand_dims(panda, axis=0)\n",
        "\n",
        "# (4) perform inference with the saved model\n",
        "labels = [\"cat\", \"dog\", \"panda\"]\n",
        "\n",
        "# cat\n",
        "predictions = model.predict(cat)\n",
        "print(predictions)\n",
        "probability = max(predictions[0])\n",
        "predictions = predictions.argmax(axis=1)[0]\n",
        "print(\"Cat predicted as: {} with {:.2f} % probability\".format(labels[predictions], probability * 100))\n",
        "\n",
        "# dog\n",
        "predictions = model.predict(dog)\n",
        "probability = max(predictions[0])\n",
        "predictions = predictions.argmax(axis=1)[0]\n",
        "print(\"Dog predicted as: {} with {:.2f} % probability\".format(labels[predictions], probability * 100))\n",
        "\n",
        "# panda\n",
        "predictions = model.predict(panda)\n",
        "probability = max(predictions[0])\n",
        "predictions = predictions.argmax(axis=1)[0]\n",
        "print(\"Panda predicted as: {} with {:.2f} % probability\".format(labels[predictions], probability * 100))\n"
      ],
      "execution_count": null,
      "outputs": []
    }
  ]
}