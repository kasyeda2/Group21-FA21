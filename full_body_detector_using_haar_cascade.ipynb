{
  "nbformat": 4,
  "nbformat_minor": 0,
  "metadata": {
    "colab": {
      "name": "full body detector using haar cascade",
      "provenance": [],
      "mount_file_id": "1BZbZzT6IuyJdsP1VOfaeVRFqltd60JNq",
      "authorship_tag": "ABX9TyNie/qqe0kBQhpIa2FD75vX",
      "include_colab_link": true
    },
    "kernelspec": {
      "name": "python3",
      "display_name": "Python 3"
    },
    "language_info": {
      "name": "python"
    }
  },
  "cells": [
    {
      "cell_type": "markdown",
      "metadata": {
        "id": "view-in-github",
        "colab_type": "text"
      },
      "source": [
        "<a href=\"https://colab.research.google.com/github/kasyeda2/Group21-FA21/blob/kasyeda2/full_body_detector_using_haar_cascade.ipynb\" target=\"_parent\"><img src=\"https://colab.research.google.com/assets/colab-badge.svg\" alt=\"Open In Colab\"/></a>"
      ]
    },
    {
      "cell_type": "code",
      "metadata": {
        "id": "d2fKmw82nBbM"
      },
      "source": [
        "from datetime import datetime\n",
        "import numpy as np\n",
        "import cv2\n",
        "\n",
        "# Create our body classifier\n",
        "body_classifier = cv2.CascadeClassifier('/content/drive/MyDrive/Colab Notebooks/haarcascade_fullbody.xml')\n",
        "\n",
        "\n",
        "# Read first frame\n",
        "frame = cv2.imread(\"/content/drive/MyDrive/Colab Notebooks/testImages/\")\n",
        "gray = cv2.cvtColor(frame, cv2.COLOR_BGR2GRAY)\n",
        "\n",
        "\n",
        "bodies = body_classifier.detectMultiScale(gray, 1.1, 3)\n",
        "\n",
        "\n",
        "\n",
        "i = 0\n",
        "for (x, y, w, h) in bodies:\n",
        "    frame = cv2.rectangle(frame, (x, y), (x + w, y + h), (255, 0, 0), 2)\n",
        "cv2.imwrite('/content/drive/MyDrive/Colab Notebooks/results/ped10.jpg', frame)\n",
        "\n",
        "# Create our body classifier\n",
        "upperbody_classifier = cv2.CascadeClassifier('/content/drive/MyDrive/Colab Notebooks/haarcascade_upperbody.xml')\n",
        "\n",
        "\n"
      ],
      "execution_count": null,
      "outputs": []
    }
  ]
}